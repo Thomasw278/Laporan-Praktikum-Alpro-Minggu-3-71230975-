{
 "cells": [
  {
   "cell_type": "code",
   "execution_count": 2,
   "id": "936d0a9f",
   "metadata": {},
   "outputs": [
    {
     "name": "stdout",
     "output_type": "stream",
     "text": [
      "Masukkan suhu tubuh: 35\n",
      "Anda tidak demam\n"
     ]
    }
   ],
   "source": [
    "inputan = (input(\"Masukkan suhu tubuh: \"))\n",
    "try:\n",
    "    suhu = int(inputan)\n",
    "    if suhu >= 38:\n",
    "        print(\"Anda demam\")\n",
    "    else:\n",
    "        print(\"Anda tidak demam\")\n",
    "except:\n",
    "    print(\"Anda salah memasukkan input suhu\")"
   ]
  },
  {
   "cell_type": "code",
   "execution_count": 3,
   "id": "43fe4108",
   "metadata": {},
   "outputs": [
    {
     "name": "stdout",
     "output_type": "stream",
     "text": [
      "Masukkan suatu bilangan: Negatif Tiga Puluh\n",
      "Anda salah memasukkan input Bilangan\n"
     ]
    }
   ],
   "source": [
    "Inputan = (input(\"Masukkan suatu bilangan: \"))\n",
    "try:\n",
    "    bilangan = int(Inputan)\n",
    "    if bilangan > 0:\n",
    "        print(\"Positif\")\n",
    "    elif bilangan < 0:\n",
    "        print(\"Negatif\")\n",
    "    elif bilangan == 0:\n",
    "        print(\"Nol\")\n",
    "except:\n",
    "    print(\"Anda salah memasukkan input Bilangan\")"
   ]
  },
  {
   "cell_type": "code",
   "execution_count": 4,
   "id": "73aaf039",
   "metadata": {},
   "outputs": [
    {
     "name": "stdout",
     "output_type": "stream",
     "text": [
      "Masukkan bilangan pertama: 55\n",
      "Masukkan bilangan kedua: 3\n",
      "Masukkan bilangan ketiga: 100\n",
      "Terbesar:  100\n"
     ]
    }
   ],
   "source": [
    "# input a, b dan c\n",
    "a1 = (input(\"Masukkan bilangan pertama: \"))\n",
    "b1= (input(\"Masukkan bilangan kedua: \"))\n",
    "c1 = (input(\"Masukkan bilangan ketiga: \"))\n",
    "\n",
    "# secara berurutan tulis kriteria untuk a, b, dan c\n",
    "try:\n",
    "    a = int(a1)\n",
    "    b = int(b1)\n",
    "    c = int(c1)\n",
    "    if a > b and a > c:\n",
    "        print(\"Terbesar: \", a)\n",
    "    elif b > a and b > c:\n",
    "        print(\"Terbesar: \", b)\n",
    "    elif c > a and c > b:\n",
    "        print(\"Terbesar: \", c)\n",
    "except:\n",
    "    print(\"Anda salah memasukkan input Bilangan\")"
   ]
  },
  {
   "cell_type": "code",
   "execution_count": 5,
   "id": "84a75802",
   "metadata": {},
   "outputs": [
    {
     "name": "stdout",
     "output_type": "stream",
     "text": [
      "Masukkan Bilangan: -6\n",
      "Negatif\n"
     ]
    }
   ],
   "source": [
    "bil = int(input(\"Masukkan Bilangan: \"))\n",
    "print(\"Positif\") if bil > 0 else(print(\"Negatif\") if bil < 0 else print (\"Nol\"))"
   ]
  },
  {
   "cell_type": "code",
   "execution_count": 6,
   "id": "42b5e392",
   "metadata": {},
   "outputs": [
    {
     "name": "stdout",
     "output_type": "stream",
     "text": [
      "Masukkan bulan (1-12): 13\n",
      "Bulan Yang Diinputkan Tidak Valid\n"
     ]
    }
   ],
   "source": [
    "inputan = (input(\"Masukkan bulan (1-12): \"))\n",
    "try:\n",
    "    bulan = (int(inputan))\n",
    "    if bulan == 1 or bulan == 3 or bulan == 5 or bulan == 7 or bulan == 8 or bulan == 10 or bulan == 12:\n",
    "        print(\"Jumlah hari : 31\")\n",
    "    elif bulan == 2:\n",
    "        print(\"Jumlah hari : 29\")\n",
    "    elif bulan == 4 or bulan == 6 or bulan == 9  or bulan == 11:\n",
    "        print (\"Jumlah hari : 30\")\n",
    "    elif bulan > 12:\n",
    "        print(\"Bulan Yang Diinputkan Tidak Valid\")\n",
    "except:\n",
    "    print(\"Bulan Yang Diinputkan Tidak Valid\")"
   ]
  },
  {
   "cell_type": "code",
   "execution_count": 7,
   "id": "5a8cf24b",
   "metadata": {},
   "outputs": [
    {
     "name": "stdout",
     "output_type": "stream",
     "text": [
      "Masukkan sisi 1: 34\n",
      "Masukkan sisi 2: lima\n",
      "Masukkan sisi 3: \n",
      "Input Yang Anda Masukkan Tidak Valid\n"
     ]
    }
   ],
   "source": [
    "sisi_a = (input(\"Masukkan sisi 1: \"))\n",
    "sisi_b = (input(\"Masukkan sisi 2: \"))\n",
    "sisi_c = (input(\"Masukkan sisi 3: \"))\n",
    "\n",
    "try:\n",
    "    sisi1 = (int(sisi_a))\n",
    "    sisi2 = (int(sisi_b))\n",
    "    sisi3 = (int(sisi_c))   \n",
    "    if sisi1 == sisi2 == sisi3:\n",
    "        print(\"3 sisi sama\")\n",
    "    elif sisi1 == sisi2 or sisi2 == sisi3 or sisi1 == sisi3:\n",
    "        print(\"2 sisi sama\")\n",
    "    else:\n",
    "        print(\"Tidak ada yang sama\")\n",
    "except:\n",
    "    print(\"Input Yang Anda Masukkan Tidak Valid\")"
   ]
  },
  {
   "cell_type": "markdown",
   "id": "1d886361",
   "metadata": {},
   "source": []
  },
  {
   "cell_type": "code",
   "execution_count": 8,
   "id": "1a0e5fe4",
   "metadata": {},
   "outputs": [
    {
     "name": "stdout",
     "output_type": "stream",
     "text": [
      "Masukkan sisi 1: 32\n",
      "Masukkan sisi 2: 15\n",
      "Masukkan sisi 3: 3\n",
      "Tidak ada yang sama\n"
     ]
    }
   ],
   "source": [
    "sisi_a = (input(\"Masukkan sisi 1: \"))\n",
    "sisi_b = (input(\"Masukkan sisi 2: \"))\n",
    "sisi_c = (input(\"Masukkan sisi 3: \"))\n",
    "\n",
    "try:\n",
    "    sisi1 = (int(sisi_a))\n",
    "    sisi2 = (int(sisi_b))\n",
    "    sisi3 = (int(sisi_c))   \n",
    "    if sisi1 == sisi2 == sisi3:\n",
    "        print(\"3 sisi sama\")\n",
    "    elif sisi1 == sisi2 or sisi2 == sisi3 or sisi1 == sisi3:\n",
    "        print(\"2 sisi sama\")\n",
    "    else:\n",
    "        print(\"Tidak ada yang sama\")\n",
    "except:\n",
    "    print(\"Input Yang Anda Masukkan Tidak Valid\")"
   ]
  },
  {
   "cell_type": "code",
   "execution_count": null,
   "id": "2dc130b8",
   "metadata": {},
   "outputs": [],
   "source": []
  }
 ],
 "metadata": {
  "kernelspec": {
   "display_name": "Python 3 (ipykernel)",
   "language": "python",
   "name": "python3"
  },
  "language_info": {
   "codemirror_mode": {
    "name": "ipython",
    "version": 3
   },
   "file_extension": ".py",
   "mimetype": "text/x-python",
   "name": "python",
   "nbconvert_exporter": "python",
   "pygments_lexer": "ipython3",
   "version": "3.11.5"
  }
 },
 "nbformat": 4,
 "nbformat_minor": 5
}
